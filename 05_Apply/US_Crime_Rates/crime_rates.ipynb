{
  "cells": [
    {
      "cell_type": "markdown",
      "metadata": {
        "pycharm": {
          "name": "#%% md\n"
        },
        "id": "tRuYStDdqxI3"
      },
      "source": [
        "# United States - Crime Rates - 1960 - 2014"
      ]
    },
    {
      "cell_type": "markdown",
      "metadata": {
        "pycharm": {
          "name": "#%% md\n"
        },
        "id": "HCaae9_ZqxI5"
      },
      "source": [
        "### Introduction:\n",
        "\n",
        "This time you will create a data\n",
        "\n",
        "Special thanks to: https://github.com/justmarkham for sharing the dataset and materials.\n",
        "\n",
        "### Step 1. Import the necessary libraries"
      ]
    },
    {
      "cell_type": "code",
      "execution_count": null,
      "metadata": {
        "pycharm": {
          "name": "#%%\n"
        },
        "id": "CeYxhFGlqxI5"
      },
      "outputs": [],
      "source": [
        "import pandas as pd"
      ]
    },
    {
      "cell_type": "markdown",
      "metadata": {
        "pycharm": {
          "name": "#%% md\n"
        },
        "id": "37WoezwzqxI5"
      },
      "source": [
        "### Step 2. Import the dataset from this [address](https://raw.githubusercontent.com/thieu1995/csv-files/main/data/pandas/US_Crime_Rates_1960_2014.csv)."
      ]
    },
    {
      "cell_type": "markdown",
      "metadata": {
        "pycharm": {
          "name": "#%% md\n"
        },
        "id": "Yd129p3hqxI6"
      },
      "source": [
        "### Step 3. Assign it to a variable called crime."
      ]
    },
    {
      "cell_type": "code",
      "execution_count": null,
      "metadata": {
        "pycharm": {
          "name": "#%%\n"
        },
        "id": "id31SXnhqxI6"
      },
      "outputs": [],
      "source": [
        "crime = pd.read_csv('https://raw.githubusercontent.com/thieu1995/csv-files/main/data/pandas/US_Crime_Rates_1960_2014.csv')"
      ]
    },
    {
      "cell_type": "markdown",
      "metadata": {
        "pycharm": {
          "name": "#%% md\n"
        },
        "id": "pumdTTamqxI6"
      },
      "source": [
        "### Step 4. What is the type of the columns?"
      ]
    },
    {
      "cell_type": "code",
      "execution_count": null,
      "metadata": {
        "pycharm": {
          "name": "#%%\n"
        },
        "colab": {
          "base_uri": "https://localhost:8080/",
          "height": 364
        },
        "id": "Ou4TeEDCqxI6",
        "outputId": "f3e33dda-02c8-4b9a-cf92-1f523b60a07a"
      },
      "outputs": [
        {
          "output_type": "stream",
          "name": "stdout",
          "text": [
            "<class 'pandas.core.frame.DataFrame'>\n",
            "RangeIndex: 55 entries, 0 to 54\n",
            "Data columns (total 12 columns):\n",
            " #   Column              Non-Null Count  Dtype\n",
            "---  ------              --------------  -----\n",
            " 0   Year                55 non-null     int64\n",
            " 1   Population          55 non-null     int64\n",
            " 2   Total               55 non-null     int64\n",
            " 3   Violent             55 non-null     int64\n",
            " 4   Property            55 non-null     int64\n",
            " 5   Murder              55 non-null     int64\n",
            " 6   Forcible_Rape       55 non-null     int64\n",
            " 7   Robbery             55 non-null     int64\n",
            " 8   Aggravated_assault  55 non-null     int64\n",
            " 9   Burglary            55 non-null     int64\n",
            " 10  Larceny_Theft       55 non-null     int64\n",
            " 11  Vehicle_Theft       55 non-null     int64\n",
            "dtypes: int64(12)\n",
            "memory usage: 5.3 KB\n"
          ]
        },
        {
          "output_type": "display_data",
          "data": {
            "text/plain": [
              "None"
            ]
          },
          "metadata": {}
        }
      ],
      "source": [
        "display(crime.info())"
      ]
    },
    {
      "cell_type": "markdown",
      "metadata": {
        "pycharm": {
          "name": "#%% md\n"
        },
        "id": "ftgdFGLcqxI6"
      },
      "source": [
        "##### Have you noticed that the type of Year is int64. But pandas has a different type to work with Time Series. Let's see it now.\n",
        "\n",
        "### Step 5. Convert the type of the column Year to datetime64"
      ]
    },
    {
      "cell_type": "code",
      "execution_count": null,
      "metadata": {
        "pycharm": {
          "name": "#%%\n"
        },
        "id": "EX_Solm5qxI6"
      },
      "outputs": [],
      "source": [
        "crime['Year'] = pd.to_datetime(crime['Year'], format='%Y')"
      ]
    },
    {
      "cell_type": "markdown",
      "metadata": {
        "pycharm": {
          "name": "#%% md\n"
        },
        "id": "xYjI5AefqxI6"
      },
      "source": [
        "### Step 6. Set the Year column as the index of the dataframe"
      ]
    },
    {
      "cell_type": "code",
      "execution_count": null,
      "metadata": {
        "pycharm": {
          "name": "#%%\n"
        },
        "id": "gBJe7FW6qxI7"
      },
      "outputs": [],
      "source": [
        "crime = crime.set_index('Year')"
      ]
    },
    {
      "cell_type": "markdown",
      "metadata": {
        "pycharm": {
          "name": "#%% md\n"
        },
        "id": "2IvMCeFaqxI7"
      },
      "source": [
        "### Step 7. Delete the Total column"
      ]
    },
    {
      "cell_type": "code",
      "execution_count": null,
      "metadata": {
        "pycharm": {
          "name": "#%%\n"
        },
        "id": "SMTPelXqqxI7"
      },
      "outputs": [],
      "source": [
        "crime = crime.drop('Total', axis=1)"
      ]
    },
    {
      "cell_type": "markdown",
      "metadata": {
        "pycharm": {
          "name": "#%% md\n"
        },
        "id": "B2H9Eu1QqxI7"
      },
      "source": [
        "### Step 8. Group the year by decades and sum the values\n",
        "\n",
        "#### Pay attention to the Population column number, summing this column is a mistake"
      ]
    },
    {
      "cell_type": "code",
      "execution_count": null,
      "metadata": {
        "scrolled": true,
        "pycharm": {
          "name": "#%%\n"
        },
        "colab": {
          "base_uri": "https://localhost:8080/",
          "height": 442
        },
        "id": "ewt9_z9DqxI7",
        "outputId": "febeb98e-b84e-41d5-f8e1-e6edf62cf252"
      },
      "outputs": [
        {
          "output_type": "stream",
          "name": "stderr",
          "text": [
            "/tmp/ipython-input-477498031.py:1: FutureWarning: 'AS' is deprecated and will be removed in a future version, please use 'YS' instead.\n",
            "  decade_crime = crime.resample('10AS').sum()\n",
            "/tmp/ipython-input-477498031.py:3: FutureWarning: 'AS' is deprecated and will be removed in a future version, please use 'YS' instead.\n",
            "  decade_crime['Population'] = crime['Population'].resample('10AS').max()\n"
          ]
        },
        {
          "output_type": "display_data",
          "data": {
            "text/plain": [
              "            Population   Violent   Property  Murder  Forcible_Rape  Robbery  \\\n",
              "Year                                                                          \n",
              "1960-01-01   201385000   4134930   45160900  106180         236720  1633510   \n",
              "1970-01-01   220099000   9607930   91383800  192230         554570  4159020   \n",
              "1980-01-01   248239000  14074328  117048900  206439         865639  5383109   \n",
              "1990-01-01   272690813  17527048  119053499  211664         998827  5748930   \n",
              "2000-01-01   307006550  13968056  100944369  163068         922499  4230366   \n",
              "2010-01-01   318857056   6072017   44095950   72867         421059  1749809   \n",
              "\n",
              "            Aggravated_assault  Burglary  Larceny_Theft  Vehicle_Theft  \n",
              "Year                                                                    \n",
              "1960-01-01             2158520  13321100       26547700        5292100  \n",
              "1970-01-01             4702120  28486000       53157800        9739900  \n",
              "1980-01-01             7619130  33073494       72040253       11935411  \n",
              "1990-01-01            10568963  26750015       77679366       14624418  \n",
              "2000-01-01             8652124  21565176       67970291       11412834  \n",
              "2010-01-01             3764142  10125170       30401698        3569080  "
            ],
            "text/html": [
              "\n",
              "  <div id=\"df-bad75da0-b236-4196-a44c-c67d0de61b7d\" class=\"colab-df-container\">\n",
              "    <div>\n",
              "<style scoped>\n",
              "    .dataframe tbody tr th:only-of-type {\n",
              "        vertical-align: middle;\n",
              "    }\n",
              "\n",
              "    .dataframe tbody tr th {\n",
              "        vertical-align: top;\n",
              "    }\n",
              "\n",
              "    .dataframe thead th {\n",
              "        text-align: right;\n",
              "    }\n",
              "</style>\n",
              "<table border=\"1\" class=\"dataframe\">\n",
              "  <thead>\n",
              "    <tr style=\"text-align: right;\">\n",
              "      <th></th>\n",
              "      <th>Population</th>\n",
              "      <th>Violent</th>\n",
              "      <th>Property</th>\n",
              "      <th>Murder</th>\n",
              "      <th>Forcible_Rape</th>\n",
              "      <th>Robbery</th>\n",
              "      <th>Aggravated_assault</th>\n",
              "      <th>Burglary</th>\n",
              "      <th>Larceny_Theft</th>\n",
              "      <th>Vehicle_Theft</th>\n",
              "    </tr>\n",
              "    <tr>\n",
              "      <th>Year</th>\n",
              "      <th></th>\n",
              "      <th></th>\n",
              "      <th></th>\n",
              "      <th></th>\n",
              "      <th></th>\n",
              "      <th></th>\n",
              "      <th></th>\n",
              "      <th></th>\n",
              "      <th></th>\n",
              "      <th></th>\n",
              "    </tr>\n",
              "  </thead>\n",
              "  <tbody>\n",
              "    <tr>\n",
              "      <th>1960-01-01</th>\n",
              "      <td>201385000</td>\n",
              "      <td>4134930</td>\n",
              "      <td>45160900</td>\n",
              "      <td>106180</td>\n",
              "      <td>236720</td>\n",
              "      <td>1633510</td>\n",
              "      <td>2158520</td>\n",
              "      <td>13321100</td>\n",
              "      <td>26547700</td>\n",
              "      <td>5292100</td>\n",
              "    </tr>\n",
              "    <tr>\n",
              "      <th>1970-01-01</th>\n",
              "      <td>220099000</td>\n",
              "      <td>9607930</td>\n",
              "      <td>91383800</td>\n",
              "      <td>192230</td>\n",
              "      <td>554570</td>\n",
              "      <td>4159020</td>\n",
              "      <td>4702120</td>\n",
              "      <td>28486000</td>\n",
              "      <td>53157800</td>\n",
              "      <td>9739900</td>\n",
              "    </tr>\n",
              "    <tr>\n",
              "      <th>1980-01-01</th>\n",
              "      <td>248239000</td>\n",
              "      <td>14074328</td>\n",
              "      <td>117048900</td>\n",
              "      <td>206439</td>\n",
              "      <td>865639</td>\n",
              "      <td>5383109</td>\n",
              "      <td>7619130</td>\n",
              "      <td>33073494</td>\n",
              "      <td>72040253</td>\n",
              "      <td>11935411</td>\n",
              "    </tr>\n",
              "    <tr>\n",
              "      <th>1990-01-01</th>\n",
              "      <td>272690813</td>\n",
              "      <td>17527048</td>\n",
              "      <td>119053499</td>\n",
              "      <td>211664</td>\n",
              "      <td>998827</td>\n",
              "      <td>5748930</td>\n",
              "      <td>10568963</td>\n",
              "      <td>26750015</td>\n",
              "      <td>77679366</td>\n",
              "      <td>14624418</td>\n",
              "    </tr>\n",
              "    <tr>\n",
              "      <th>2000-01-01</th>\n",
              "      <td>307006550</td>\n",
              "      <td>13968056</td>\n",
              "      <td>100944369</td>\n",
              "      <td>163068</td>\n",
              "      <td>922499</td>\n",
              "      <td>4230366</td>\n",
              "      <td>8652124</td>\n",
              "      <td>21565176</td>\n",
              "      <td>67970291</td>\n",
              "      <td>11412834</td>\n",
              "    </tr>\n",
              "    <tr>\n",
              "      <th>2010-01-01</th>\n",
              "      <td>318857056</td>\n",
              "      <td>6072017</td>\n",
              "      <td>44095950</td>\n",
              "      <td>72867</td>\n",
              "      <td>421059</td>\n",
              "      <td>1749809</td>\n",
              "      <td>3764142</td>\n",
              "      <td>10125170</td>\n",
              "      <td>30401698</td>\n",
              "      <td>3569080</td>\n",
              "    </tr>\n",
              "  </tbody>\n",
              "</table>\n",
              "</div>\n",
              "    <div class=\"colab-df-buttons\">\n",
              "\n",
              "  <div class=\"colab-df-container\">\n",
              "    <button class=\"colab-df-convert\" onclick=\"convertToInteractive('df-bad75da0-b236-4196-a44c-c67d0de61b7d')\"\n",
              "            title=\"Convert this dataframe to an interactive table.\"\n",
              "            style=\"display:none;\">\n",
              "\n",
              "  <svg xmlns=\"http://www.w3.org/2000/svg\" height=\"24px\" viewBox=\"0 -960 960 960\">\n",
              "    <path d=\"M120-120v-720h720v720H120Zm60-500h600v-160H180v160Zm220 220h160v-160H400v160Zm0 220h160v-160H400v160ZM180-400h160v-160H180v160Zm440 0h160v-160H620v160ZM180-180h160v-160H180v160Zm440 0h160v-160H620v160Z\"/>\n",
              "  </svg>\n",
              "    </button>\n",
              "\n",
              "  <style>\n",
              "    .colab-df-container {\n",
              "      display:flex;\n",
              "      gap: 12px;\n",
              "    }\n",
              "\n",
              "    .colab-df-convert {\n",
              "      background-color: #E8F0FE;\n",
              "      border: none;\n",
              "      border-radius: 50%;\n",
              "      cursor: pointer;\n",
              "      display: none;\n",
              "      fill: #1967D2;\n",
              "      height: 32px;\n",
              "      padding: 0 0 0 0;\n",
              "      width: 32px;\n",
              "    }\n",
              "\n",
              "    .colab-df-convert:hover {\n",
              "      background-color: #E2EBFA;\n",
              "      box-shadow: 0px 1px 2px rgba(60, 64, 67, 0.3), 0px 1px 3px 1px rgba(60, 64, 67, 0.15);\n",
              "      fill: #174EA6;\n",
              "    }\n",
              "\n",
              "    .colab-df-buttons div {\n",
              "      margin-bottom: 4px;\n",
              "    }\n",
              "\n",
              "    [theme=dark] .colab-df-convert {\n",
              "      background-color: #3B4455;\n",
              "      fill: #D2E3FC;\n",
              "    }\n",
              "\n",
              "    [theme=dark] .colab-df-convert:hover {\n",
              "      background-color: #434B5C;\n",
              "      box-shadow: 0px 1px 3px 1px rgba(0, 0, 0, 0.15);\n",
              "      filter: drop-shadow(0px 1px 2px rgba(0, 0, 0, 0.3));\n",
              "      fill: #FFFFFF;\n",
              "    }\n",
              "  </style>\n",
              "\n",
              "    <script>\n",
              "      const buttonEl =\n",
              "        document.querySelector('#df-bad75da0-b236-4196-a44c-c67d0de61b7d button.colab-df-convert');\n",
              "      buttonEl.style.display =\n",
              "        google.colab.kernel.accessAllowed ? 'block' : 'none';\n",
              "\n",
              "      async function convertToInteractive(key) {\n",
              "        const element = document.querySelector('#df-bad75da0-b236-4196-a44c-c67d0de61b7d');\n",
              "        const dataTable =\n",
              "          await google.colab.kernel.invokeFunction('convertToInteractive',\n",
              "                                                    [key], {});\n",
              "        if (!dataTable) return;\n",
              "\n",
              "        const docLinkHtml = 'Like what you see? Visit the ' +\n",
              "          '<a target=\"_blank\" href=https://colab.research.google.com/notebooks/data_table.ipynb>data table notebook</a>'\n",
              "          + ' to learn more about interactive tables.';\n",
              "        element.innerHTML = '';\n",
              "        dataTable['output_type'] = 'display_data';\n",
              "        await google.colab.output.renderOutput(dataTable, element);\n",
              "        const docLink = document.createElement('div');\n",
              "        docLink.innerHTML = docLinkHtml;\n",
              "        element.appendChild(docLink);\n",
              "      }\n",
              "    </script>\n",
              "  </div>\n",
              "\n",
              "\n",
              "    <div id=\"df-19a66f25-edc8-4a73-9458-5d128260df02\">\n",
              "      <button class=\"colab-df-quickchart\" onclick=\"quickchart('df-19a66f25-edc8-4a73-9458-5d128260df02')\"\n",
              "                title=\"Suggest charts\"\n",
              "                style=\"display:none;\">\n",
              "\n",
              "<svg xmlns=\"http://www.w3.org/2000/svg\" height=\"24px\"viewBox=\"0 0 24 24\"\n",
              "     width=\"24px\">\n",
              "    <g>\n",
              "        <path d=\"M19 3H5c-1.1 0-2 .9-2 2v14c0 1.1.9 2 2 2h14c1.1 0 2-.9 2-2V5c0-1.1-.9-2-2-2zM9 17H7v-7h2v7zm4 0h-2V7h2v10zm4 0h-2v-4h2v4z\"/>\n",
              "    </g>\n",
              "</svg>\n",
              "      </button>\n",
              "\n",
              "<style>\n",
              "  .colab-df-quickchart {\n",
              "      --bg-color: #E8F0FE;\n",
              "      --fill-color: #1967D2;\n",
              "      --hover-bg-color: #E2EBFA;\n",
              "      --hover-fill-color: #174EA6;\n",
              "      --disabled-fill-color: #AAA;\n",
              "      --disabled-bg-color: #DDD;\n",
              "  }\n",
              "\n",
              "  [theme=dark] .colab-df-quickchart {\n",
              "      --bg-color: #3B4455;\n",
              "      --fill-color: #D2E3FC;\n",
              "      --hover-bg-color: #434B5C;\n",
              "      --hover-fill-color: #FFFFFF;\n",
              "      --disabled-bg-color: #3B4455;\n",
              "      --disabled-fill-color: #666;\n",
              "  }\n",
              "\n",
              "  .colab-df-quickchart {\n",
              "    background-color: var(--bg-color);\n",
              "    border: none;\n",
              "    border-radius: 50%;\n",
              "    cursor: pointer;\n",
              "    display: none;\n",
              "    fill: var(--fill-color);\n",
              "    height: 32px;\n",
              "    padding: 0;\n",
              "    width: 32px;\n",
              "  }\n",
              "\n",
              "  .colab-df-quickchart:hover {\n",
              "    background-color: var(--hover-bg-color);\n",
              "    box-shadow: 0 1px 2px rgba(60, 64, 67, 0.3), 0 1px 3px 1px rgba(60, 64, 67, 0.15);\n",
              "    fill: var(--button-hover-fill-color);\n",
              "  }\n",
              "\n",
              "  .colab-df-quickchart-complete:disabled,\n",
              "  .colab-df-quickchart-complete:disabled:hover {\n",
              "    background-color: var(--disabled-bg-color);\n",
              "    fill: var(--disabled-fill-color);\n",
              "    box-shadow: none;\n",
              "  }\n",
              "\n",
              "  .colab-df-spinner {\n",
              "    border: 2px solid var(--fill-color);\n",
              "    border-color: transparent;\n",
              "    border-bottom-color: var(--fill-color);\n",
              "    animation:\n",
              "      spin 1s steps(1) infinite;\n",
              "  }\n",
              "\n",
              "  @keyframes spin {\n",
              "    0% {\n",
              "      border-color: transparent;\n",
              "      border-bottom-color: var(--fill-color);\n",
              "      border-left-color: var(--fill-color);\n",
              "    }\n",
              "    20% {\n",
              "      border-color: transparent;\n",
              "      border-left-color: var(--fill-color);\n",
              "      border-top-color: var(--fill-color);\n",
              "    }\n",
              "    30% {\n",
              "      border-color: transparent;\n",
              "      border-left-color: var(--fill-color);\n",
              "      border-top-color: var(--fill-color);\n",
              "      border-right-color: var(--fill-color);\n",
              "    }\n",
              "    40% {\n",
              "      border-color: transparent;\n",
              "      border-right-color: var(--fill-color);\n",
              "      border-top-color: var(--fill-color);\n",
              "    }\n",
              "    60% {\n",
              "      border-color: transparent;\n",
              "      border-right-color: var(--fill-color);\n",
              "    }\n",
              "    80% {\n",
              "      border-color: transparent;\n",
              "      border-right-color: var(--fill-color);\n",
              "      border-bottom-color: var(--fill-color);\n",
              "    }\n",
              "    90% {\n",
              "      border-color: transparent;\n",
              "      border-bottom-color: var(--fill-color);\n",
              "    }\n",
              "  }\n",
              "</style>\n",
              "\n",
              "      <script>\n",
              "        async function quickchart(key) {\n",
              "          const quickchartButtonEl =\n",
              "            document.querySelector('#' + key + ' button');\n",
              "          quickchartButtonEl.disabled = true;  // To prevent multiple clicks.\n",
              "          quickchartButtonEl.classList.add('colab-df-spinner');\n",
              "          try {\n",
              "            const charts = await google.colab.kernel.invokeFunction(\n",
              "                'suggestCharts', [key], {});\n",
              "          } catch (error) {\n",
              "            console.error('Error during call to suggestCharts:', error);\n",
              "          }\n",
              "          quickchartButtonEl.classList.remove('colab-df-spinner');\n",
              "          quickchartButtonEl.classList.add('colab-df-quickchart-complete');\n",
              "        }\n",
              "        (() => {\n",
              "          let quickchartButtonEl =\n",
              "            document.querySelector('#df-19a66f25-edc8-4a73-9458-5d128260df02 button');\n",
              "          quickchartButtonEl.style.display =\n",
              "            google.colab.kernel.accessAllowed ? 'block' : 'none';\n",
              "        })();\n",
              "      </script>\n",
              "    </div>\n",
              "\n",
              "  <div id=\"id_94ed0d6d-eb34-4d09-adbf-f96c2b7e4605\">\n",
              "    <style>\n",
              "      .colab-df-generate {\n",
              "        background-color: #E8F0FE;\n",
              "        border: none;\n",
              "        border-radius: 50%;\n",
              "        cursor: pointer;\n",
              "        display: none;\n",
              "        fill: #1967D2;\n",
              "        height: 32px;\n",
              "        padding: 0 0 0 0;\n",
              "        width: 32px;\n",
              "      }\n",
              "\n",
              "      .colab-df-generate:hover {\n",
              "        background-color: #E2EBFA;\n",
              "        box-shadow: 0px 1px 2px rgba(60, 64, 67, 0.3), 0px 1px 3px 1px rgba(60, 64, 67, 0.15);\n",
              "        fill: #174EA6;\n",
              "      }\n",
              "\n",
              "      [theme=dark] .colab-df-generate {\n",
              "        background-color: #3B4455;\n",
              "        fill: #D2E3FC;\n",
              "      }\n",
              "\n",
              "      [theme=dark] .colab-df-generate:hover {\n",
              "        background-color: #434B5C;\n",
              "        box-shadow: 0px 1px 3px 1px rgba(0, 0, 0, 0.15);\n",
              "        filter: drop-shadow(0px 1px 2px rgba(0, 0, 0, 0.3));\n",
              "        fill: #FFFFFF;\n",
              "      }\n",
              "    </style>\n",
              "    <button class=\"colab-df-generate\" onclick=\"generateWithVariable('decade_crime')\"\n",
              "            title=\"Generate code using this dataframe.\"\n",
              "            style=\"display:none;\">\n",
              "\n",
              "  <svg xmlns=\"http://www.w3.org/2000/svg\" height=\"24px\"viewBox=\"0 0 24 24\"\n",
              "       width=\"24px\">\n",
              "    <path d=\"M7,19H8.4L18.45,9,17,7.55,7,17.6ZM5,21V16.75L18.45,3.32a2,2,0,0,1,2.83,0l1.4,1.43a1.91,1.91,0,0,1,.58,1.4,1.91,1.91,0,0,1-.58,1.4L9.25,21ZM18.45,9,17,7.55Zm-12,3A5.31,5.31,0,0,0,4.9,8.1,5.31,5.31,0,0,0,1,6.5,5.31,5.31,0,0,0,4.9,4.9,5.31,5.31,0,0,0,6.5,1,5.31,5.31,0,0,0,8.1,4.9,5.31,5.31,0,0,0,12,6.5,5.46,5.46,0,0,0,6.5,12Z\"/>\n",
              "  </svg>\n",
              "    </button>\n",
              "    <script>\n",
              "      (() => {\n",
              "      const buttonEl =\n",
              "        document.querySelector('#id_94ed0d6d-eb34-4d09-adbf-f96c2b7e4605 button.colab-df-generate');\n",
              "      buttonEl.style.display =\n",
              "        google.colab.kernel.accessAllowed ? 'block' : 'none';\n",
              "\n",
              "      buttonEl.onclick = () => {\n",
              "        google.colab.notebook.generateWithVariable('decade_crime');\n",
              "      }\n",
              "      })();\n",
              "    </script>\n",
              "  </div>\n",
              "\n",
              "    </div>\n",
              "  </div>\n"
            ],
            "application/vnd.google.colaboratory.intrinsic+json": {
              "type": "dataframe",
              "variable_name": "decade_crime",
              "summary": "{\n  \"name\": \"decade_crime\",\n  \"rows\": 6,\n  \"fields\": [\n    {\n      \"column\": \"Year\",\n      \"properties\": {\n        \"dtype\": \"date\",\n        \"min\": \"1960-01-01 00:00:00\",\n        \"max\": \"2010-01-01 00:00:00\",\n        \"num_unique_values\": 6,\n        \"samples\": [\n          \"1960-01-01 00:00:00\",\n          \"1970-01-01 00:00:00\",\n          \"2010-01-01 00:00:00\"\n        ],\n        \"semantic_type\": \"\",\n        \"description\": \"\"\n      }\n    },\n    {\n      \"column\": \"Population\",\n      \"properties\": {\n        \"dtype\": \"number\",\n        \"std\": 46881841,\n        \"min\": 201385000,\n        \"max\": 318857056,\n        \"num_unique_values\": 6,\n        \"samples\": [\n          201385000,\n          220099000,\n          318857056\n        ],\n        \"semantic_type\": \"\",\n        \"description\": \"\"\n      }\n    },\n    {\n      \"column\": \"Violent\",\n      \"properties\": {\n        \"dtype\": \"number\",\n        \"std\": 5179808,\n        \"min\": 4134930,\n        \"max\": 17527048,\n        \"num_unique_values\": 6,\n        \"samples\": [\n          4134930,\n          9607930,\n          6072017\n        ],\n        \"semantic_type\": \"\",\n        \"description\": \"\"\n      }\n    },\n    {\n      \"column\": \"Property\",\n      \"properties\": {\n        \"dtype\": \"number\",\n        \"std\": 33859103,\n        \"min\": 44095950,\n        \"max\": 119053499,\n        \"num_unique_values\": 6,\n        \"samples\": [\n          45160900,\n          91383800,\n          44095950\n        ],\n        \"semantic_type\": \"\",\n        \"description\": \"\"\n      }\n    },\n    {\n      \"column\": \"Murder\",\n      \"properties\": {\n        \"dtype\": \"number\",\n        \"std\": 57189,\n        \"min\": 72867,\n        \"max\": 211664,\n        \"num_unique_values\": 6,\n        \"samples\": [\n          106180,\n          192230,\n          72867\n        ],\n        \"semantic_type\": \"\",\n        \"description\": \"\"\n      }\n    },\n    {\n      \"column\": \"Forcible_Rape\",\n      \"properties\": {\n        \"dtype\": \"number\",\n        \"std\": 307608,\n        \"min\": 236720,\n        \"max\": 998827,\n        \"num_unique_values\": 6,\n        \"samples\": [\n          236720,\n          554570,\n          421059\n        ],\n        \"semantic_type\": \"\",\n        \"description\": \"\"\n      }\n    },\n    {\n      \"column\": \"Robbery\",\n      \"properties\": {\n        \"dtype\": \"number\",\n        \"std\": 1761465,\n        \"min\": 1633510,\n        \"max\": 5748930,\n        \"num_unique_values\": 6,\n        \"samples\": [\n          1633510,\n          4159020,\n          1749809\n        ],\n        \"semantic_type\": \"\",\n        \"description\": \"\"\n      }\n    },\n    {\n      \"column\": \"Aggravated_assault\",\n      \"properties\": {\n        \"dtype\": \"number\",\n        \"std\": 3212898,\n        \"min\": 2158520,\n        \"max\": 10568963,\n        \"num_unique_values\": 6,\n        \"samples\": [\n          2158520,\n          4702120,\n          3764142\n        ],\n        \"semantic_type\": \"\",\n        \"description\": \"\"\n      }\n    },\n    {\n      \"column\": \"Burglary\",\n      \"properties\": {\n        \"dtype\": \"number\",\n        \"std\": 8983164,\n        \"min\": 10125170,\n        \"max\": 33073494,\n        \"num_unique_values\": 6,\n        \"samples\": [\n          13321100,\n          28486000,\n          10125170\n        ],\n        \"semantic_type\": \"\",\n        \"description\": \"\"\n      }\n    },\n    {\n      \"column\": \"Larceny_Theft\",\n      \"properties\": {\n        \"dtype\": \"number\",\n        \"std\": 21863883,\n        \"min\": 26547700,\n        \"max\": 77679366,\n        \"num_unique_values\": 6,\n        \"samples\": [\n          26547700,\n          53157800,\n          30401698\n        ],\n        \"semantic_type\": \"\",\n        \"description\": \"\"\n      }\n    },\n    {\n      \"column\": \"Vehicle_Theft\",\n      \"properties\": {\n        \"dtype\": \"number\",\n        \"std\": 4213296,\n        \"min\": 3569080,\n        \"max\": 14624418,\n        \"num_unique_values\": 6,\n        \"samples\": [\n          5292100,\n          9739900,\n          3569080\n        ],\n        \"semantic_type\": \"\",\n        \"description\": \"\"\n      }\n    }\n  ]\n}"
            }
          },
          "metadata": {}
        }
      ],
      "source": [
        "decade_crime = crime.resample('10AS').sum()\n",
        "\n",
        "decade_crime['Population'] = crime['Population'].resample('10AS').max()\n",
        "\n",
        "display(decade_crime)"
      ]
    },
    {
      "cell_type": "markdown",
      "metadata": {
        "pycharm": {
          "name": "#%% md\n"
        },
        "id": "ddeyMuEeqxI7"
      },
      "source": [
        "### Step 9. What is the most dangerous decade to live in the US?"
      ]
    },
    {
      "cell_type": "code",
      "execution_count": null,
      "metadata": {
        "pycharm": {
          "name": "#%%\n"
        },
        "colab": {
          "base_uri": "https://localhost:8080/"
        },
        "id": "C9wu57uFqxI7",
        "outputId": "283922cf-c701-43e3-daff-e7586a7667db"
      },
      "outputs": [
        {
          "output_type": "stream",
          "name": "stdout",
          "text": [
            "The most dangerous decade to live in the US was the decade starting in 1990.\n"
          ]
        }
      ],
      "source": [
        "decade_crime['Total_Crime'] = decade_crime.drop('Population', axis=1).sum(axis=1)\n",
        "\n",
        "most_dangerous_decade = decade_crime['Total_Crime'].idxmax()\n",
        "\n",
        "print(f\"The most dangerous decade to live in the US was the decade starting in {most_dangerous_decade.year}.\")"
      ]
    }
  ],
  "metadata": {
    "anaconda-cloud": {},
    "kernelspec": {
      "display_name": "Python [default]",
      "language": "python",
      "name": "python2"
    },
    "language_info": {
      "codemirror_mode": {
        "name": "ipython",
        "version": 2
      },
      "file_extension": ".py",
      "mimetype": "text/x-python",
      "name": "python",
      "nbconvert_exporter": "python",
      "pygments_lexer": "ipython2",
      "version": "2.7.12"
    },
    "colab": {
      "provenance": [],
      "toc_visible": true
    }
  },
  "nbformat": 4,
  "nbformat_minor": 0
}