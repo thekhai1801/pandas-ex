{
  "cells": [
    {
      "cell_type": "markdown",
      "metadata": {
        "pycharm": {
          "name": "#%% md\n"
        },
        "id": "Q1ruci9TmHgQ"
      },
      "source": [
        "# Occupation"
      ]
    },
    {
      "cell_type": "markdown",
      "metadata": {
        "pycharm": {
          "name": "#%% md\n"
        },
        "id": "AT3ilBtomHgS"
      },
      "source": [
        "### Introduction:\n",
        "\n",
        "Special thanks to: https://github.com/justmarkham for sharing the dataset and materials.\n",
        "\n",
        "### Step 1. Import the necessary libraries"
      ]
    },
    {
      "cell_type": "code",
      "execution_count": null,
      "metadata": {
        "pycharm": {
          "name": "#%%\n"
        },
        "id": "-httUfCkmHgS"
      },
      "outputs": [],
      "source": [
        "import pandas as pd"
      ]
    },
    {
      "cell_type": "markdown",
      "metadata": {
        "pycharm": {
          "name": "#%% md\n"
        },
        "id": "Z1--M9qDmHgT"
      },
      "source": [
        "### Step 2. Import the dataset from this [address](https://raw.githubusercontent.com/thieu1995/csv-files/main/data/pandas/u.user)."
      ]
    },
    {
      "cell_type": "markdown",
      "metadata": {
        "pycharm": {
          "name": "#%% md\n"
        },
        "id": "8J6vRZpvmHgT"
      },
      "source": [
        "### Step 3. Assign it to a variable called users."
      ]
    },
    {
      "cell_type": "code",
      "execution_count": null,
      "metadata": {
        "pycharm": {
          "name": "#%%\n"
        },
        "id": "SGFmVB27mHgT"
      },
      "outputs": [],
      "source": [
        "users = pd.read_csv('https://raw.githubusercontent.com/thieu1995/csv-files/main/data/pandas/u.user', sep='|')"
      ]
    },
    {
      "cell_type": "markdown",
      "metadata": {
        "pycharm": {
          "name": "#%% md\n"
        },
        "id": "uVwXdC9CmHgT"
      },
      "source": [
        "### Step 4. Discover what is the mean age per occupation"
      ]
    },
    {
      "cell_type": "code",
      "execution_count": null,
      "metadata": {
        "pycharm": {
          "name": "#%%\n"
        },
        "colab": {
          "base_uri": "https://localhost:8080/"
        },
        "id": "4C1rMrl7mHgU",
        "outputId": "f6383c45-82a0-4e40-a82f-382e1104d561"
      },
      "outputs": [
        {
          "output_type": "stream",
          "name": "stdout",
          "text": [
            "occupation\n",
            "administrator    38.746835\n",
            "artist           31.392857\n",
            "doctor           43.571429\n",
            "educator         42.010526\n",
            "engineer         36.388060\n",
            "entertainment    29.222222\n",
            "executive        38.718750\n",
            "healthcare       41.562500\n",
            "homemaker        32.571429\n",
            "lawyer           36.750000\n",
            "librarian        40.000000\n",
            "marketing        37.615385\n",
            "none             26.555556\n",
            "other            34.523810\n",
            "programmer       33.121212\n",
            "retired          63.071429\n",
            "salesman         35.666667\n",
            "scientist        35.548387\n",
            "student          22.081633\n",
            "technician       33.148148\n",
            "writer           36.311111\n",
            "Name: age, dtype: float64\n"
          ]
        }
      ],
      "source": [
        "mean_age_occupation = users.groupby('occupation')['age'].mean()\n",
        "print(mean_age_occupation)"
      ]
    },
    {
      "cell_type": "markdown",
      "metadata": {
        "pycharm": {
          "name": "#%% md\n"
        },
        "id": "JMJrWVuwmHgU"
      },
      "source": [
        "### Step 5. Discover the Male ratio per occupation and sort it from the most to the least"
      ]
    },
    {
      "cell_type": "code",
      "execution_count": null,
      "metadata": {
        "pycharm": {
          "name": "#%%\n"
        },
        "colab": {
          "base_uri": "https://localhost:8080/"
        },
        "id": "hpp_Ir-gmHgU",
        "outputId": "cab76843-d6d9-4d57-87bc-f5c3bf3b6e4a"
      },
      "outputs": [
        {
          "output_type": "stream",
          "name": "stdout",
          "text": [
            "occupation\n",
            "doctor           1.000000\n",
            "engineer         0.970149\n",
            "technician       0.962963\n",
            "retired          0.928571\n",
            "programmer       0.909091\n",
            "executive        0.906250\n",
            "scientist        0.903226\n",
            "entertainment    0.888889\n",
            "lawyer           0.833333\n",
            "salesman         0.750000\n",
            "educator         0.726316\n",
            "student          0.693878\n",
            "other            0.657143\n",
            "marketing        0.615385\n",
            "writer           0.577778\n",
            "none             0.555556\n",
            "administrator    0.544304\n",
            "artist           0.535714\n",
            "librarian        0.431373\n",
            "healthcare       0.312500\n",
            "homemaker        0.142857\n",
            "dtype: float64\n"
          ]
        }
      ],
      "source": [
        "gender_counts = users.groupby(['occupation', 'gender']).size().unstack(fill_value=0)\n",
        "male_ratio = gender_counts['M'] / (gender_counts['M'] + gender_counts['F'])\n",
        "male_ratio_sorted = male_ratio.sort_values(ascending=False)\n",
        "print(male_ratio_sorted)"
      ]
    },
    {
      "cell_type": "markdown",
      "metadata": {
        "pycharm": {
          "name": "#%% md\n"
        },
        "id": "0CBx5WdWmHgU"
      },
      "source": [
        "### Step 6. For each occupation, calculate the minimum and maximum ages"
      ]
    },
    {
      "cell_type": "code",
      "execution_count": null,
      "metadata": {
        "pycharm": {
          "name": "#%%\n"
        },
        "colab": {
          "base_uri": "https://localhost:8080/"
        },
        "id": "r2T7uFZsmHgU",
        "outputId": "f5382737-ed52-49c8-d0fc-dfeab955c04a"
      },
      "outputs": [
        {
          "output_type": "stream",
          "name": "stdout",
          "text": [
            "               min  max\n",
            "occupation             \n",
            "administrator   21   70\n",
            "artist          19   48\n",
            "doctor          28   64\n",
            "educator        23   63\n",
            "engineer        22   70\n",
            "entertainment   15   50\n",
            "executive       22   69\n",
            "healthcare      22   62\n",
            "homemaker       20   50\n",
            "lawyer          21   53\n",
            "librarian       23   69\n",
            "marketing       24   55\n",
            "none            11   55\n",
            "other           13   64\n",
            "programmer      20   63\n",
            "retired         51   73\n",
            "salesman        18   66\n",
            "scientist       23   55\n",
            "student          7   42\n",
            "technician      21   55\n",
            "writer          18   60\n"
          ]
        }
      ],
      "source": [
        "occupation_age_range = users.groupby('occupation')['age'].agg(['min', 'max'])\n",
        "print(occupation_age_range)"
      ]
    },
    {
      "cell_type": "markdown",
      "metadata": {
        "pycharm": {
          "name": "#%% md\n"
        },
        "id": "sU7xETabmHgU"
      },
      "source": [
        "### Step 7. For each combination of occupation and gender, calculate the mean age"
      ]
    },
    {
      "cell_type": "code",
      "execution_count": null,
      "metadata": {
        "pycharm": {
          "name": "#%%\n"
        },
        "colab": {
          "base_uri": "https://localhost:8080/"
        },
        "id": "0gp2ohbYmHgU",
        "outputId": "e5cf1ef5-995e-4c59-ab76-5f4964f8cf25"
      },
      "outputs": [
        {
          "output_type": "stream",
          "name": "stdout",
          "text": [
            "occupation     gender\n",
            "administrator  F         40.638889\n",
            "               M         37.162791\n",
            "artist         F         30.307692\n",
            "               M         32.333333\n",
            "doctor         M         43.571429\n",
            "educator       F         39.115385\n",
            "               M         43.101449\n",
            "engineer       F         29.500000\n",
            "               M         36.600000\n",
            "entertainment  F         31.000000\n",
            "               M         29.000000\n",
            "executive      F         44.000000\n",
            "               M         38.172414\n",
            "healthcare     F         39.818182\n",
            "               M         45.400000\n",
            "homemaker      F         34.166667\n",
            "               M         23.000000\n",
            "lawyer         F         39.500000\n",
            "               M         36.200000\n",
            "librarian      F         40.000000\n",
            "               M         40.000000\n",
            "marketing      F         37.200000\n",
            "               M         37.875000\n",
            "none           F         36.500000\n",
            "               M         18.600000\n",
            "other          F         35.472222\n",
            "               M         34.028986\n",
            "programmer     F         32.166667\n",
            "               M         33.216667\n",
            "retired        F         70.000000\n",
            "               M         62.538462\n",
            "salesman       F         27.000000\n",
            "               M         38.555556\n",
            "scientist      F         28.333333\n",
            "               M         36.321429\n",
            "student        F         20.750000\n",
            "               M         22.669118\n",
            "technician     F         38.000000\n",
            "               M         32.961538\n",
            "writer         F         37.631579\n",
            "               M         35.346154\n",
            "Name: age, dtype: float64\n"
          ]
        }
      ],
      "source": [
        "mean_age_occupation_gender = users.groupby(['occupation', 'gender'])['age'].mean()\n",
        "print(mean_age_occupation_gender)"
      ]
    },
    {
      "cell_type": "markdown",
      "metadata": {
        "pycharm": {
          "name": "#%% md\n"
        },
        "id": "YBDHxAkfmHgV"
      },
      "source": [
        "### Step 8.  For each occupation present the percentage of women and men"
      ]
    },
    {
      "cell_type": "code",
      "execution_count": null,
      "metadata": {
        "pycharm": {
          "name": "#%%\n"
        },
        "colab": {
          "base_uri": "https://localhost:8080/"
        },
        "id": "a4kPZ4oTmHgV",
        "outputId": "06bcc1be-b3bb-4f24-d6fd-49d9d3140c07"
      },
      "outputs": [
        {
          "output_type": "stream",
          "name": "stdout",
          "text": [
            "gender                 F           M\n",
            "occupation                          \n",
            "administrator  45.569620   54.430380\n",
            "artist         46.428571   53.571429\n",
            "doctor          0.000000  100.000000\n",
            "educator       27.368421   72.631579\n",
            "engineer        2.985075   97.014925\n",
            "entertainment  11.111111   88.888889\n",
            "executive       9.375000   90.625000\n",
            "healthcare     68.750000   31.250000\n",
            "homemaker      85.714286   14.285714\n",
            "lawyer         16.666667   83.333333\n",
            "librarian      56.862745   43.137255\n",
            "marketing      38.461538   61.538462\n",
            "none           44.444444   55.555556\n",
            "other          34.285714   65.714286\n",
            "programmer      9.090909   90.909091\n",
            "retired         7.142857   92.857143\n",
            "salesman       25.000000   75.000000\n",
            "scientist       9.677419   90.322581\n",
            "student        30.612245   69.387755\n",
            "technician      3.703704   96.296296\n",
            "writer         42.222222   57.777778\n"
          ]
        }
      ],
      "source": [
        "occupation_gender_percentage = gender_counts.apply(lambda x: x / x.sum() * 100, axis=1)\n",
        "print(occupation_gender_percentage)"
      ]
    }
  ],
  "metadata": {
    "kernelspec": {
      "display_name": "Python 2",
      "language": "python",
      "name": "python2"
    },
    "language_info": {
      "codemirror_mode": {
        "name": "ipython",
        "version": 2
      },
      "file_extension": ".py",
      "mimetype": "text/x-python",
      "name": "python",
      "nbconvert_exporter": "python",
      "pygments_lexer": "ipython2",
      "version": "2.7.11"
    },
    "colab": {
      "provenance": []
    }
  },
  "nbformat": 4,
  "nbformat_minor": 0
}